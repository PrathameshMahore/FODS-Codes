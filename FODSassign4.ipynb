# Import necessary libraries
import numpy as np
import matplotlib.pyplot as plt
import seaborn as sns

# Set mean and standard deviation
mean = 100
std_dev = 4
dataset_size = 100000

# Generate dataset following normal distribution
data = np.random.normal(mean, std_dev, dataset_size)

# Ensure data is generated correctly
print(data[:10])  # Print the first 10 elements of the dataset

# Plot the distribution using Seaborn
plt.figure(figsize=(10, 6))
sns.histplot(data, bins=50, kde=True, color='blue')

# Customize the plot with labels and title
plt.title('Normal Distribution (Mean = 100, Std Dev = 4)', fontsize=16)
plt.xlabel('Data Values', fontsize=14)
plt.ylabel('Frequency', fontsize=14)
plt.grid(True)

# Display the plot
plt.show()
